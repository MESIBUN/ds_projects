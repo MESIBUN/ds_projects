{
  "nbformat": 4,
  "nbformat_minor": 0,
  "metadata": {
    "colab": {
      "provenance": [],
      "authorship_tag": "ABX9TyOG7w+L1JKXl2L72QjpbrTK",
      "include_colab_link": true
    },
    "kernelspec": {
      "name": "python3",
      "display_name": "Python 3"
    },
    "language_info": {
      "name": "python"
    }
  },
  "cells": [
    {
      "cell_type": "markdown",
      "metadata": {
        "id": "view-in-github",
        "colab_type": "text"
      },
      "source": [
        "<a href=\"https://colab.research.google.com/github/MESIBUN/ds_projects/blob/main/BDA_project_cia_2.ipynb\" target=\"_parent\"><img src=\"https://colab.research.google.com/assets/colab-badge.svg\" alt=\"Open In Colab\"/></a>"
      ]
    },
    {
      "cell_type": "code",
      "execution_count": null,
      "metadata": {
        "colab": {
          "base_uri": "https://localhost:8080/"
        },
        "id": "UYpxZMtuG09z",
        "outputId": "46113ab7-1db6-46ab-e8f2-d620fdd79658"
      },
      "outputs": [
        {
          "output_type": "stream",
          "name": "stdout",
          "text": [
            "Collecting pyspark\n",
            "  Downloading pyspark-3.5.1.tar.gz (317.0 MB)\n",
            "\u001b[2K     \u001b[90m━━━━━━━━━━━━━━━━━━━━━━━━━━━━━━━━━━━━━━━━\u001b[0m \u001b[32m317.0/317.0 MB\u001b[0m \u001b[31m4.5 MB/s\u001b[0m eta \u001b[36m0:00:00\u001b[0m\n",
            "\u001b[?25h  Preparing metadata (setup.py) ... \u001b[?25l\u001b[?25hdone\n",
            "Requirement already satisfied: py4j==0.10.9.7 in /usr/local/lib/python3.10/dist-packages (from pyspark) (0.10.9.7)\n",
            "Building wheels for collected packages: pyspark\n",
            "  Building wheel for pyspark (setup.py) ... \u001b[?25l\u001b[?25hdone\n",
            "  Created wheel for pyspark: filename=pyspark-3.5.1-py2.py3-none-any.whl size=317488493 sha256=593c6d0b2820644969db8f22ebd099f008429a1b378b8f3ad3d151d557c35d27\n",
            "  Stored in directory: /root/.cache/pip/wheels/80/1d/60/2c256ed38dddce2fdd93be545214a63e02fbd8d74fb0b7f3a6\n",
            "Successfully built pyspark\n",
            "Installing collected packages: pyspark\n",
            "Successfully installed pyspark-3.5.1\n"
          ]
        }
      ],
      "source": [
        "!pip install pyspark\n"
      ]
    },
    {
      "cell_type": "code",
      "source": [
        "# Import necessary libraries\n",
        "from pyspark.sql import SparkSession\n",
        "from pyspark.ml.feature import VectorAssembler\n",
        "from pyspark.ml.classification import DecisionTreeClassifier\n"
      ],
      "metadata": {
        "id": "C9SdDskeHPx8"
      },
      "execution_count": null,
      "outputs": []
    },
    {
      "cell_type": "code",
      "source": [
        "# Create a Spark session\n",
        "spark = SparkSession.builder.appName('DecisionTreeClassifier').getOrCreate()"
      ],
      "metadata": {
        "id": "lSBB-FvTIRhP"
      },
      "execution_count": null,
      "outputs": []
    },
    {
      "cell_type": "markdown",
      "source": [
        "Workflow\n",
        "\n",
        "\n",
        "*   Data preparation\n",
        "*   Feature Engineering\n",
        "*   Build model\n",
        "*   Evaluate\n",
        "\n",
        "#Task\n",
        "*   Predict if a patient is Hep or not based on parameter\n",
        "*   The dataset contains laboratry values of blood donors and Hepatitus C patients and demographic values like age\n",
        "\n",
        "\n",
        "\n",
        "\n",
        "\n"
      ],
      "metadata": {
        "id": "h7sTxQdCJFGJ"
      }
    },
    {
      "cell_type": "markdown",
      "source": [],
      "metadata": {
        "id": "LIBjpYVyJEp0"
      }
    },
    {
      "cell_type": "code",
      "source": [
        "# Load the data\n",
        "data = spark.read.csv('hcvdata.csv', header=True, inferSchema=True)\n"
      ],
      "metadata": {
        "id": "ua0gr1OtIv7n"
      },
      "execution_count": null,
      "outputs": []
    },
    {
      "cell_type": "code",
      "source": [
        "#Preview the dataset\n",
        "data.show(5)"
      ],
      "metadata": {
        "colab": {
          "base_uri": "https://localhost:8080/"
        },
        "id": "YvCryFiUI1a8",
        "outputId": "2044f51a-74e0-40fd-a9f6-b9ac662ea69d"
      },
      "execution_count": null,
      "outputs": [
        {
          "output_type": "stream",
          "name": "stdout",
          "text": [
            "+---+-------------+---+---+----+----+----+----+----+-----+----+-----+----+----+\n",
            "|_c0|     Category|Age|Sex| ALB| ALP| ALT| AST| BIL|  CHE|CHOL| CREA| GGT|PROT|\n",
            "+---+-------------+---+---+----+----+----+----+----+-----+----+-----+----+----+\n",
            "|  1|0=Blood Donor| 32|  m|38.5|52.5| 7.7|22.1| 7.5| 6.93|3.23|106.0|12.1|  69|\n",
            "|  2|0=Blood Donor| 32|  m|38.5|70.3|  18|24.7| 3.9|11.17| 4.8| 74.0|15.6|76.5|\n",
            "|  3|0=Blood Donor| 32|  m|46.9|74.7|36.2|52.6| 6.1| 8.84| 5.2| 86.0|33.2|79.3|\n",
            "|  4|0=Blood Donor| 32|  m|43.2|  52|30.6|22.6|18.9| 7.33|4.74| 80.0|33.8|75.7|\n",
            "|  5|0=Blood Donor| 32|  m|39.2|74.1|32.6|24.8| 9.6| 9.15|4.32| 76.0|29.9|68.7|\n",
            "+---+-------------+---+---+----+----+----+----+----+-----+----+-----+----+----+\n",
            "only showing top 5 rows\n",
            "\n"
          ]
        }
      ]
    },
    {
      "cell_type": "code",
      "source": [
        " #check fo columns\n",
        " print(data.columns)"
      ],
      "metadata": {
        "colab": {
          "base_uri": "https://localhost:8080/"
        },
        "id": "aErJ_wkvKPMB",
        "outputId": "c67ea959-5ac9-46d7-f5f8-b371b4a5365f"
      },
      "execution_count": null,
      "outputs": [
        {
          "output_type": "stream",
          "name": "stdout",
          "text": [
            "['_c0', 'Category', 'Age', 'Sex', 'ALB', 'ALP', 'ALT', 'AST', 'BIL', 'CHE', 'CHOL', 'CREA', 'GGT', 'PROT']\n"
          ]
        }
      ]
    },
    {
      "cell_type": "code",
      "source": [
        "#Rearrange\n",
        "data = data.select( 'Age', 'Sex', 'ALB', 'ALP', 'ALT', 'AST', 'BIL', 'CHE', 'CHOL', 'CREA', 'GGT', 'PROT','Category')"
      ],
      "metadata": {
        "id": "afoscDXXKnq9"
      },
      "execution_count": null,
      "outputs": []
    },
    {
      "cell_type": "code",
      "source": [
        " data.show(5)"
      ],
      "metadata": {
        "colab": {
          "base_uri": "https://localhost:8080/"
        },
        "id": "W36V8K3aK-3N",
        "outputId": "022b118d-821f-4031-ee42-0239de8e2d24"
      },
      "execution_count": null,
      "outputs": [
        {
          "output_type": "stream",
          "name": "stdout",
          "text": [
            "+---+---+----+----+----+----+----+-----+----+-----+----+----+-------------+\n",
            "|Age|Sex| ALB| ALP| ALT| AST| BIL|  CHE|CHOL| CREA| GGT|PROT|     Category|\n",
            "+---+---+----+----+----+----+----+-----+----+-----+----+----+-------------+\n",
            "| 32|  m|38.5|52.5| 7.7|22.1| 7.5| 6.93|3.23|106.0|12.1|  69|0=Blood Donor|\n",
            "| 32|  m|38.5|70.3|  18|24.7| 3.9|11.17| 4.8| 74.0|15.6|76.5|0=Blood Donor|\n",
            "| 32|  m|46.9|74.7|36.2|52.6| 6.1| 8.84| 5.2| 86.0|33.2|79.3|0=Blood Donor|\n",
            "| 32|  m|43.2|  52|30.6|22.6|18.9| 7.33|4.74| 80.0|33.8|75.7|0=Blood Donor|\n",
            "| 32|  m|39.2|74.1|32.6|24.8| 9.6| 9.15|4.32| 76.0|29.9|68.7|0=Blood Donor|\n",
            "+---+---+----+----+----+----+----+-----+----+-----+----+----+-------------+\n",
            "only showing top 5 rows\n",
            "\n"
          ]
        }
      ]
    },
    {
      "cell_type": "code",
      "source": [
        "#check th data types\n",
        "data.dtypes"
      ],
      "metadata": {
        "colab": {
          "base_uri": "https://localhost:8080/"
        },
        "id": "KfUwe8D2LGMQ",
        "outputId": "2e42522a-2b32-49e1-ed0e-8091ed7fd733"
      },
      "execution_count": null,
      "outputs": [
        {
          "output_type": "execute_result",
          "data": {
            "text/plain": [
              "[('Age', 'int'),\n",
              " ('Sex', 'string'),\n",
              " ('ALB', 'string'),\n",
              " ('ALP', 'string'),\n",
              " ('ALT', 'string'),\n",
              " ('AST', 'double'),\n",
              " ('BIL', 'double'),\n",
              " ('CHE', 'double'),\n",
              " ('CHOL', 'string'),\n",
              " ('CREA', 'double'),\n",
              " ('GGT', 'double'),\n",
              " ('PROT', 'string'),\n",
              " ('Category', 'string')]"
            ]
          },
          "metadata": {},
          "execution_count": 9
        }
      ]
    },
    {
      "cell_type": "code",
      "source": [
        "data.printSchema()"
      ],
      "metadata": {
        "colab": {
          "base_uri": "https://localhost:8080/"
        },
        "id": "FuRfhGl3LOWc",
        "outputId": "5154e937-1a69-4a1c-ebc2-a55377fbf4c5"
      },
      "execution_count": null,
      "outputs": [
        {
          "output_type": "stream",
          "name": "stdout",
          "text": [
            "root\n",
            " |-- Age: integer (nullable = true)\n",
            " |-- Sex: string (nullable = true)\n",
            " |-- ALB: string (nullable = true)\n",
            " |-- ALP: string (nullable = true)\n",
            " |-- ALT: string (nullable = true)\n",
            " |-- AST: double (nullable = true)\n",
            " |-- BIL: double (nullable = true)\n",
            " |-- CHE: double (nullable = true)\n",
            " |-- CHOL: string (nullable = true)\n",
            " |-- CREA: double (nullable = true)\n",
            " |-- GGT: double (nullable = true)\n",
            " |-- PROT: string (nullable = true)\n",
            " |-- Category: string (nullable = true)\n",
            "\n"
          ]
        }
      ]
    },
    {
      "cell_type": "code",
      "source": [
        "#Descriptive summary\n",
        "print(data.describe().show())"
      ],
      "metadata": {
        "colab": {
          "base_uri": "https://localhost:8080/"
        },
        "id": "b9Yz5MOWLrBD",
        "outputId": "e0d0241e-5903-47c8-c901-fd71a8c6a42a"
      },
      "execution_count": null,
      "outputs": [
        {
          "output_type": "stream",
          "name": "stdout",
          "text": [
            "+-------+------------------+----+-----------------+------------------+------------------+-----------------+------------------+------------------+------------------+-----------------+-----------------+-----------------+-------------+\n",
            "|summary|               Age| Sex|              ALB|               ALP|               ALT|              AST|               BIL|               CHE|              CHOL|             CREA|              GGT|             PROT|     Category|\n",
            "+-------+------------------+----+-----------------+------------------+------------------+-----------------+------------------+------------------+------------------+-----------------+-----------------+-----------------+-------------+\n",
            "|  count|               615| 615|              615|               615|               615|              615|               615|               615|               615|              615|              615|              615|          615|\n",
            "|   mean| 47.40813008130081|NULL|41.62019543973941| 68.28391959798999| 28.45081433224754|34.78634146341462|11.396747967479675| 8.196634146341458| 5.368099173553719|81.28780487804877|39.53317073170732|72.04413680781768|         NULL|\n",
            "| stddev|10.055105445519239|NULL|5.780629404103076|26.028315300123676|25.469688813870942|33.09069033855156|19.673149805846588|2.2056572704292927|1.1327284311597354|49.75616601234976|54.66107123891245|5.402635737104955|         NULL|\n",
            "|    min|                19|   f|             14.9|             100.4|               0.9|             10.6|               0.8|              1.42|              1.43|              8.0|              4.5|             44.8|0=Blood Donor|\n",
            "|    max|                77|   m|               NA|                NA|                NA|            324.0|             254.0|             16.41|                NA|           1079.1|            650.9|               NA|  3=Cirrhosis|\n",
            "+-------+------------------+----+-----------------+------------------+------------------+-----------------+------------------+------------------+------------------+-----------------+-----------------+-----------------+-------------+\n",
            "\n",
            "None\n"
          ]
        }
      ]
    },
    {
      "cell_type": "code",
      "source": [
        "data.groupBy(\"Category\").count().show()"
      ],
      "metadata": {
        "colab": {
          "base_uri": "https://localhost:8080/"
        },
        "id": "WRwwfwD7L4hg",
        "outputId": "d08cf383-1541-44db-8283-c3bc1c3d7f29"
      },
      "execution_count": null,
      "outputs": [
        {
          "output_type": "stream",
          "name": "stdout",
          "text": [
            "+--------------------+-----+\n",
            "|            Category|count|\n",
            "+--------------------+-----+\n",
            "|       0=Blood Donor|  533|\n",
            "|         3=Cirrhosis|   30|\n",
            "|          2=Fibrosis|   21|\n",
            "|0s=suspect Blood ...|    7|\n",
            "|         1=Hepatitis|   24|\n",
            "+--------------------+-----+\n",
            "\n"
          ]
        }
      ]
    },
    {
      "cell_type": "code",
      "source": [
        "from pyspark.ml.feature import VectorAssembler,StringIndexer"
      ],
      "metadata": {
        "id": "W2-wqmm-MYyy"
      },
      "execution_count": null,
      "outputs": []
    },
    {
      "cell_type": "code",
      "source": [
        "#unique values for sex\n",
        "data.select(\"Sex\").distinct().show()"
      ],
      "metadata": {
        "colab": {
          "base_uri": "https://localhost:8080/"
        },
        "id": "6SQsuAqINIUN",
        "outputId": "9dc341be-9a70-4c22-951c-9f5e99152315"
      },
      "execution_count": null,
      "outputs": [
        {
          "output_type": "stream",
          "name": "stdout",
          "text": [
            "+---+\n",
            "|Sex|\n",
            "+---+\n",
            "|  m|\n",
            "|  f|\n",
            "+---+\n",
            "\n"
          ]
        }
      ]
    },
    {
      "cell_type": "code",
      "source": [
        "#Converting the string into numerical\n",
        "genderEncode = StringIndexer(inputCol = \"Sex\",outputCol =\"Gender\").fit(data)\n",
        "data = genderEncode.transform(data)"
      ],
      "metadata": {
        "id": "BmTKA7SjNo_S"
      },
      "execution_count": null,
      "outputs": []
    },
    {
      "cell_type": "code",
      "source": [
        "data.show(2)"
      ],
      "metadata": {
        "colab": {
          "base_uri": "https://localhost:8080/"
        },
        "id": "YKJR418HmIyo",
        "outputId": "cc9de542-0da7-4c27-b499-af5362c4cf6c"
      },
      "execution_count": null,
      "outputs": [
        {
          "output_type": "stream",
          "name": "stdout",
          "text": [
            "+---+---+----+----+---+----+---+-----+----+-----+----+----+-------------+------+\n",
            "|Age|Sex| ALB| ALP|ALT| AST|BIL|  CHE|CHOL| CREA| GGT|PROT|     Category|Gender|\n",
            "+---+---+----+----+---+----+---+-----+----+-----+----+----+-------------+------+\n",
            "| 32|  m|38.5|52.5|7.7|22.1|7.5| 6.93|3.23|106.0|12.1|  69|0=Blood Donor|   0.0|\n",
            "| 32|  m|38.5|70.3| 18|24.7|3.9|11.17| 4.8| 74.0|15.6|76.5|0=Blood Donor|   0.0|\n",
            "+---+---+----+----+---+----+---+-----+----+-----+----+----+-------------+------+\n",
            "only showing top 2 rows\n",
            "\n"
          ]
        }
      ]
    },
    {
      "cell_type": "code",
      "source": [
        "data.select(\"Category\").distinct().show()"
      ],
      "metadata": {
        "colab": {
          "base_uri": "https://localhost:8080/"
        },
        "id": "BhV0tM0tmg05",
        "outputId": "458a7284-715e-4646-e777-6190b98a39c3"
      },
      "execution_count": null,
      "outputs": [
        {
          "output_type": "stream",
          "name": "stdout",
          "text": [
            "+--------------------+\n",
            "|            Category|\n",
            "+--------------------+\n",
            "|       0=Blood Donor|\n",
            "|         3=Cirrhosis|\n",
            "|          2=Fibrosis|\n",
            "|0s=suspect Blood ...|\n",
            "|         1=Hepatitis|\n",
            "+--------------------+\n",
            "\n"
          ]
        }
      ]
    },
    {
      "cell_type": "code",
      "source": [
        "catEncode = StringIndexer(inputCol = \"Category\",outputCol =\"Target\").fit(data)\n",
        "data = catEncode.transform(data)"
      ],
      "metadata": {
        "id": "aHGseqCDmLOT"
      },
      "execution_count": null,
      "outputs": []
    },
    {
      "cell_type": "markdown",
      "source": [
        "from the above process we have encoded values for each categories namely,\n",
        "*   Blood Donor - 0\n",
        "*   Cirrhosis - 1\n",
        "*   Fibrosis - 4\n",
        "*   suspect Blood donor - 3\n",
        "*   Hepatitis - 2\n",
        "\n",
        "\n",
        "\n",
        "\n"
      ],
      "metadata": {
        "id": "79DEqlatnkJ6"
      }
    },
    {
      "cell_type": "code",
      "source": [
        "data.select(\"Target\").distinct().show()"
      ],
      "metadata": {
        "colab": {
          "base_uri": "https://localhost:8080/"
        },
        "id": "RV1vbBNwm4TA",
        "outputId": "ea57503c-51fd-46a9-9d60-bea63ac45e22"
      },
      "execution_count": null,
      "outputs": [
        {
          "output_type": "stream",
          "name": "stdout",
          "text": [
            "+------+\n",
            "|Target|\n",
            "+------+\n",
            "|   0.0|\n",
            "|   1.0|\n",
            "|   4.0|\n",
            "|   3.0|\n",
            "|   2.0|\n",
            "+------+\n",
            "\n"
          ]
        }
      ]
    },
    {
      "cell_type": "code",
      "source": [
        "data.columns"
      ],
      "metadata": {
        "colab": {
          "base_uri": "https://localhost:8080/"
        },
        "id": "B3IiMAeCrSBC",
        "outputId": "9d1a5bc7-7302-4238-9dae-501c521511bc"
      },
      "execution_count": null,
      "outputs": [
        {
          "output_type": "execute_result",
          "data": {
            "text/plain": [
              "['Age',\n",
              " 'Sex',\n",
              " 'ALB',\n",
              " 'ALP',\n",
              " 'ALT',\n",
              " 'AST',\n",
              " 'BIL',\n",
              " 'CHE',\n",
              " 'CHOL',\n",
              " 'CREA',\n",
              " 'GGT',\n",
              " 'PROT',\n",
              " 'Category',\n",
              " 'Gender',\n",
              " 'Category_index',\n",
              " 'Target']"
            ]
          },
          "metadata": {},
          "execution_count": 32
        }
      ]
    },
    {
      "cell_type": "code",
      "source": [
        "df = data.select('Age','ALB','ALP','ALT', 'AST', 'BIL', 'CHE','CHOL','CREA','GGT','PROT', 'Gender','Target')"
      ],
      "metadata": {
        "id": "bH0IwLUGm6r8"
      },
      "execution_count": null,
      "outputs": []
    },
    {
      "cell_type": "code",
      "source": [
        "df.show()"
      ],
      "metadata": {
        "colab": {
          "base_uri": "https://localhost:8080/"
        },
        "id": "8AfVgLcgrvQx",
        "outputId": "a3f74ba2-1d0a-4e34-9e07-ccbad8bd380a"
      },
      "execution_count": null,
      "outputs": [
        {
          "output_type": "stream",
          "name": "stdout",
          "text": [
            "+---+----+----+----+----+----+-----+----+-----+----+----+------+------+\n",
            "|Age| ALB| ALP| ALT| AST| BIL|  CHE|CHOL| CREA| GGT|PROT|Gender|Target|\n",
            "+---+----+----+----+----+----+-----+----+-----+----+----+------+------+\n",
            "| 32|38.5|52.5| 7.7|22.1| 7.5| 6.93|3.23|106.0|12.1|  69|   0.0|   0.0|\n",
            "| 32|38.5|70.3|  18|24.7| 3.9|11.17| 4.8| 74.0|15.6|76.5|   0.0|   0.0|\n",
            "| 32|46.9|74.7|36.2|52.6| 6.1| 8.84| 5.2| 86.0|33.2|79.3|   0.0|   0.0|\n",
            "| 32|43.2|  52|30.6|22.6|18.9| 7.33|4.74| 80.0|33.8|75.7|   0.0|   0.0|\n",
            "| 32|39.2|74.1|32.6|24.8| 9.6| 9.15|4.32| 76.0|29.9|68.7|   0.0|   0.0|\n",
            "| 32|41.6|43.3|18.5|19.7|12.3| 9.92|6.05|111.0|91.0|  74|   0.0|   0.0|\n",
            "| 32|46.3|41.3|17.5|17.8| 8.5| 7.01|4.79| 70.0|16.9|74.5|   0.0|   0.0|\n",
            "| 32|42.2|41.9|35.8|31.1|16.1| 5.82| 4.6|109.0|21.5|67.1|   0.0|   0.0|\n",
            "| 32|50.9|65.5|23.2|21.2| 6.9| 8.69| 4.1| 83.0|13.7|71.3|   0.0|   0.0|\n",
            "| 32|42.4|86.3|20.3|20.0|35.2| 5.46|4.45| 81.0|15.9|69.9|   0.0|   0.0|\n",
            "| 32|44.3|52.3|21.7|22.4|17.2| 4.15|3.57| 78.0|24.1|75.4|   0.0|   0.0|\n",
            "| 33|46.4|68.2|10.3|20.0| 5.7| 7.36| 4.3| 79.0|18.7|68.6|   0.0|   0.0|\n",
            "| 33|36.3|78.6|23.6|22.0| 7.0| 8.56|5.38| 78.0|19.4|68.7|   0.0|   0.0|\n",
            "| 33|  39|51.7|15.9|24.0| 6.8| 6.46|3.38| 65.0| 7.0|70.4|   0.0|   0.0|\n",
            "| 33|38.7|39.8|22.5|23.0| 4.1| 4.63|4.97| 63.0|15.2|71.9|   0.0|   0.0|\n",
            "| 33|41.8|  65|33.1|38.0| 6.6| 8.83|4.43| 71.0|24.0|72.7|   0.0|   0.0|\n",
            "| 33|40.9|  73|17.2|22.9|10.0| 6.98|5.22| 90.0|14.7|72.4|   0.0|   0.0|\n",
            "| 33|45.2|88.3|32.4|31.2|10.1| 9.78|5.51|102.0|48.5|76.5|   0.0|   0.0|\n",
            "| 33|36.6|57.1|38.9|40.3|24.9| 9.62| 5.5|112.0|27.6|69.3|   0.0|   0.0|\n",
            "| 33|  42|63.1|32.6|34.9|11.2| 7.01|4.05|105.0|19.1|68.1|   0.0|   0.0|\n",
            "+---+----+----+----+----+----+-----+----+-----+----+----+------+------+\n",
            "only showing top 20 rows\n",
            "\n"
          ]
        }
      ]
    },
    {
      "cell_type": "code",
      "source": [
        "df.printSchema()"
      ],
      "metadata": {
        "colab": {
          "base_uri": "https://localhost:8080/"
        },
        "id": "ZBDJaQjurxFP",
        "outputId": "91ff4553-9857-4f21-c6a4-164796104261"
      },
      "execution_count": null,
      "outputs": [
        {
          "output_type": "stream",
          "name": "stdout",
          "text": [
            "root\n",
            " |-- Age: integer (nullable = true)\n",
            " |-- ALB: string (nullable = true)\n",
            " |-- ALP: string (nullable = true)\n",
            " |-- ALT: string (nullable = true)\n",
            " |-- AST: double (nullable = true)\n",
            " |-- BIL: double (nullable = true)\n",
            " |-- CHE: double (nullable = true)\n",
            " |-- CHOL: string (nullable = true)\n",
            " |-- CREA: double (nullable = true)\n",
            " |-- GGT: double (nullable = true)\n",
            " |-- PROT: string (nullable = true)\n",
            " |-- Gender: double (nullable = false)\n",
            " |-- Target: double (nullable = false)\n",
            "\n"
          ]
        }
      ]
    },
    {
      "cell_type": "code",
      "source": [
        "# since the dtypes are in string we convert it into \"toPandas\" and data type as \"float\"\n",
        "\n",
        "df =df.toPandas().replace(\"NA\",0).astype(float)"
      ],
      "metadata": {
        "id": "jiVugW4mr6P5"
      },
      "execution_count": null,
      "outputs": []
    },
    {
      "cell_type": "code",
      "source": [
        "type(df)"
      ],
      "metadata": {
        "colab": {
          "base_uri": "https://localhost:8080/",
          "height": 203
        },
        "id": "0GruGLM0usln",
        "outputId": "2424ce33-5198-4246-f614-4d84e294d688"
      },
      "execution_count": null,
      "outputs": [
        {
          "output_type": "execute_result",
          "data": {
            "text/plain": [
              "pandas.core.frame.DataFrame"
            ],
            "text/html": [
              "<div style=\"max-width:800px; border: 1px solid var(--colab-border-color);\"><style>\n",
              "      pre.function-repr-contents {\n",
              "        overflow-x: auto;\n",
              "        padding: 8px 12px;\n",
              "        max-height: 500px;\n",
              "      }\n",
              "\n",
              "      pre.function-repr-contents.function-repr-contents-collapsed {\n",
              "        cursor: pointer;\n",
              "        max-height: 100px;\n",
              "      }\n",
              "    </style>\n",
              "    <pre style=\"white-space: initial; background:\n",
              "         var(--colab-secondary-surface-color); padding: 8px 12px;\n",
              "         border-bottom: 1px solid var(--colab-border-color);\"><b>pandas.core.frame.DataFrame</b><br/>def __init__(data=None, index: Axes | None=None, columns: Axes | None=None, dtype: Dtype | None=None, copy: bool | None=None) -&gt; None</pre><pre class=\"function-repr-contents function-repr-contents-collapsed\" style=\"\"><a class=\"filepath\" style=\"display:none\" href=\"#\">/usr/local/lib/python3.10/dist-packages/pandas/core/frame.py</a>Two-dimensional, size-mutable, potentially heterogeneous tabular data.\n",
              "\n",
              "Data structure also contains labeled axes (rows and columns).\n",
              "Arithmetic operations align on both row and column labels. Can be\n",
              "thought of as a dict-like container for Series objects. The primary\n",
              "pandas data structure.\n",
              "\n",
              "Parameters\n",
              "----------\n",
              "data : ndarray (structured or homogeneous), Iterable, dict, or DataFrame\n",
              "    Dict can contain Series, arrays, constants, dataclass or list-like objects. If\n",
              "    data is a dict, column order follows insertion-order. If a dict contains Series\n",
              "    which have an index defined, it is aligned by its index.\n",
              "\n",
              "    .. versionchanged:: 0.25.0\n",
              "       If data is a list of dicts, column order follows insertion-order.\n",
              "\n",
              "index : Index or array-like\n",
              "    Index to use for resulting frame. Will default to RangeIndex if\n",
              "    no indexing information part of input data and no index provided.\n",
              "columns : Index or array-like\n",
              "    Column labels to use for resulting frame when data does not have them,\n",
              "    defaulting to RangeIndex(0, 1, 2, ..., n). If data contains column labels,\n",
              "    will perform column selection instead.\n",
              "dtype : dtype, default None\n",
              "    Data type to force. Only a single dtype is allowed. If None, infer.\n",
              "copy : bool or None, default None\n",
              "    Copy data from inputs.\n",
              "    For dict data, the default of None behaves like ``copy=True``.  For DataFrame\n",
              "    or 2d ndarray input, the default of None behaves like ``copy=False``.\n",
              "    If data is a dict containing one or more Series (possibly of different dtypes),\n",
              "    ``copy=False`` will ensure that these inputs are not copied.\n",
              "\n",
              "    .. versionchanged:: 1.3.0\n",
              "\n",
              "See Also\n",
              "--------\n",
              "DataFrame.from_records : Constructor from tuples, also record arrays.\n",
              "DataFrame.from_dict : From dicts of Series, arrays, or dicts.\n",
              "read_csv : Read a comma-separated values (csv) file into DataFrame.\n",
              "read_table : Read general delimited file into DataFrame.\n",
              "read_clipboard : Read text from clipboard into DataFrame.\n",
              "\n",
              "Notes\n",
              "-----\n",
              "Please reference the :ref:`User Guide &lt;basics.dataframe&gt;` for more information.\n",
              "\n",
              "Examples\n",
              "--------\n",
              "Constructing DataFrame from a dictionary.\n",
              "\n",
              "&gt;&gt;&gt; d = {&#x27;col1&#x27;: [1, 2], &#x27;col2&#x27;: [3, 4]}\n",
              "&gt;&gt;&gt; df = pd.DataFrame(data=d)\n",
              "&gt;&gt;&gt; df\n",
              "   col1  col2\n",
              "0     1     3\n",
              "1     2     4\n",
              "\n",
              "Notice that the inferred dtype is int64.\n",
              "\n",
              "&gt;&gt;&gt; df.dtypes\n",
              "col1    int64\n",
              "col2    int64\n",
              "dtype: object\n",
              "\n",
              "To enforce a single dtype:\n",
              "\n",
              "&gt;&gt;&gt; df = pd.DataFrame(data=d, dtype=np.int8)\n",
              "&gt;&gt;&gt; df.dtypes\n",
              "col1    int8\n",
              "col2    int8\n",
              "dtype: object\n",
              "\n",
              "Constructing DataFrame from a dictionary including Series:\n",
              "\n",
              "&gt;&gt;&gt; d = {&#x27;col1&#x27;: [0, 1, 2, 3], &#x27;col2&#x27;: pd.Series([2, 3], index=[2, 3])}\n",
              "&gt;&gt;&gt; pd.DataFrame(data=d, index=[0, 1, 2, 3])\n",
              "   col1  col2\n",
              "0     0   NaN\n",
              "1     1   NaN\n",
              "2     2   2.0\n",
              "3     3   3.0\n",
              "\n",
              "Constructing DataFrame from numpy ndarray:\n",
              "\n",
              "&gt;&gt;&gt; df2 = pd.DataFrame(np.array([[1, 2, 3], [4, 5, 6], [7, 8, 9]]),\n",
              "...                    columns=[&#x27;a&#x27;, &#x27;b&#x27;, &#x27;c&#x27;])\n",
              "&gt;&gt;&gt; df2\n",
              "   a  b  c\n",
              "0  1  2  3\n",
              "1  4  5  6\n",
              "2  7  8  9\n",
              "\n",
              "Constructing DataFrame from a numpy ndarray that has labeled columns:\n",
              "\n",
              "&gt;&gt;&gt; data = np.array([(1, 2, 3), (4, 5, 6), (7, 8, 9)],\n",
              "...                 dtype=[(&quot;a&quot;, &quot;i4&quot;), (&quot;b&quot;, &quot;i4&quot;), (&quot;c&quot;, &quot;i4&quot;)])\n",
              "&gt;&gt;&gt; df3 = pd.DataFrame(data, columns=[&#x27;c&#x27;, &#x27;a&#x27;])\n",
              "...\n",
              "&gt;&gt;&gt; df3\n",
              "   c  a\n",
              "0  3  1\n",
              "1  6  4\n",
              "2  9  7\n",
              "\n",
              "Constructing DataFrame from dataclass:\n",
              "\n",
              "&gt;&gt;&gt; from dataclasses import make_dataclass\n",
              "&gt;&gt;&gt; Point = make_dataclass(&quot;Point&quot;, [(&quot;x&quot;, int), (&quot;y&quot;, int)])\n",
              "&gt;&gt;&gt; pd.DataFrame([Point(0, 0), Point(0, 3), Point(2, 3)])\n",
              "   x  y\n",
              "0  0  0\n",
              "1  0  3\n",
              "2  2  3</pre>\n",
              "      <script>\n",
              "      if (google.colab.kernel.accessAllowed && google.colab.files && google.colab.files.view) {\n",
              "        for (const element of document.querySelectorAll('.filepath')) {\n",
              "          element.style.display = 'block'\n",
              "          element.onclick = (event) => {\n",
              "            event.preventDefault();\n",
              "            event.stopPropagation();\n",
              "            google.colab.files.view(element.textContent, 475);\n",
              "          };\n",
              "        }\n",
              "      }\n",
              "      for (const element of document.querySelectorAll('.function-repr-contents')) {\n",
              "        element.onclick = (event) => {\n",
              "          event.preventDefault();\n",
              "          event.stopPropagation();\n",
              "          element.classList.toggle('function-repr-contents-collapsed');\n",
              "        };\n",
              "      }\n",
              "      </script>\n",
              "      </div>"
            ]
          },
          "metadata": {},
          "execution_count": 63
        }
      ]
    },
    {
      "cell_type": "code",
      "source": [
        "type(data)"
      ],
      "metadata": {
        "colab": {
          "base_uri": "https://localhost:8080/",
          "height": 186
        },
        "id": "Fnayax1RusUy",
        "outputId": "d47c51dd-0045-4076-fb30-0284bf9b4b02"
      },
      "execution_count": null,
      "outputs": [
        {
          "output_type": "execute_result",
          "data": {
            "text/plain": [
              "pyspark.sql.dataframe.DataFrame"
            ],
            "text/html": [
              "<div style=\"max-width:800px; border: 1px solid var(--colab-border-color);\"><style>\n",
              "      pre.function-repr-contents {\n",
              "        overflow-x: auto;\n",
              "        padding: 8px 12px;\n",
              "        max-height: 500px;\n",
              "      }\n",
              "\n",
              "      pre.function-repr-contents.function-repr-contents-collapsed {\n",
              "        cursor: pointer;\n",
              "        max-height: 100px;\n",
              "      }\n",
              "    </style>\n",
              "    <pre style=\"white-space: initial; background:\n",
              "         var(--colab-secondary-surface-color); padding: 8px 12px;\n",
              "         border-bottom: 1px solid var(--colab-border-color);\"><b>pyspark.sql.dataframe.DataFrame</b><br/>def __init__(jdf: JavaObject, sql_ctx: Union[&#x27;SQLContext&#x27;, &#x27;SparkSession&#x27;])</pre><pre class=\"function-repr-contents function-repr-contents-collapsed\" style=\"\"><a class=\"filepath\" style=\"display:none\" href=\"#\">/usr/local/lib/python3.10/dist-packages/pyspark/sql/dataframe.py</a>A distributed collection of data grouped into named columns.\n",
              "\n",
              ".. versionadded:: 1.3.0\n",
              "\n",
              ".. versionchanged:: 3.4.0\n",
              "    Supports Spark Connect.\n",
              "\n",
              "Examples\n",
              "--------\n",
              "A :class:`DataFrame` is equivalent to a relational table in Spark SQL,\n",
              "and can be created using various functions in :class:`SparkSession`:\n",
              "\n",
              "&gt;&gt;&gt; people = spark.createDataFrame([\n",
              "...     {&quot;deptId&quot;: 1, &quot;age&quot;: 40, &quot;name&quot;: &quot;Hyukjin Kwon&quot;, &quot;gender&quot;: &quot;M&quot;, &quot;salary&quot;: 50},\n",
              "...     {&quot;deptId&quot;: 1, &quot;age&quot;: 50, &quot;name&quot;: &quot;Takuya Ueshin&quot;, &quot;gender&quot;: &quot;M&quot;, &quot;salary&quot;: 100},\n",
              "...     {&quot;deptId&quot;: 2, &quot;age&quot;: 60, &quot;name&quot;: &quot;Xinrong Meng&quot;, &quot;gender&quot;: &quot;F&quot;, &quot;salary&quot;: 150},\n",
              "...     {&quot;deptId&quot;: 3, &quot;age&quot;: 20, &quot;name&quot;: &quot;Haejoon Lee&quot;, &quot;gender&quot;: &quot;M&quot;, &quot;salary&quot;: 200}\n",
              "... ])\n",
              "\n",
              "Once created, it can be manipulated using the various domain-specific-language\n",
              "(DSL) functions defined in: :class:`DataFrame`, :class:`Column`.\n",
              "\n",
              "To select a column from the :class:`DataFrame`, use the apply method:\n",
              "\n",
              "&gt;&gt;&gt; age_col = people.age\n",
              "\n",
              "A more concrete example:\n",
              "\n",
              "&gt;&gt;&gt; # To create DataFrame using SparkSession\n",
              "... department = spark.createDataFrame([\n",
              "...     {&quot;id&quot;: 1, &quot;name&quot;: &quot;PySpark&quot;},\n",
              "...     {&quot;id&quot;: 2, &quot;name&quot;: &quot;ML&quot;},\n",
              "...     {&quot;id&quot;: 3, &quot;name&quot;: &quot;Spark SQL&quot;}\n",
              "... ])\n",
              "\n",
              "&gt;&gt;&gt; people.filter(people.age &gt; 30).join(\n",
              "...     department, people.deptId == department.id).groupBy(\n",
              "...     department.name, &quot;gender&quot;).agg({&quot;salary&quot;: &quot;avg&quot;, &quot;age&quot;: &quot;max&quot;}).show()\n",
              "+-------+------+-----------+--------+\n",
              "|   name|gender|avg(salary)|max(age)|\n",
              "+-------+------+-----------+--------+\n",
              "|     ML|     F|      150.0|      60|\n",
              "|PySpark|     M|       75.0|      50|\n",
              "+-------+------+-----------+--------+\n",
              "\n",
              "Notes\n",
              "-----\n",
              "A DataFrame should only be created as described above. It should not be directly\n",
              "created via using the constructor.</pre>\n",
              "      <script>\n",
              "      if (google.colab.kernel.accessAllowed && google.colab.files && google.colab.files.view) {\n",
              "        for (const element of document.querySelectorAll('.filepath')) {\n",
              "          element.style.display = 'block'\n",
              "          element.onclick = (event) => {\n",
              "            event.preventDefault();\n",
              "            event.stopPropagation();\n",
              "            google.colab.files.view(element.textContent, 80);\n",
              "          };\n",
              "        }\n",
              "      }\n",
              "      for (const element of document.querySelectorAll('.function-repr-contents')) {\n",
              "        element.onclick = (event) => {\n",
              "          event.preventDefault();\n",
              "          event.stopPropagation();\n",
              "          element.classList.toggle('function-repr-contents-collapsed');\n",
              "        };\n",
              "      }\n",
              "      </script>\n",
              "      </div>"
            ]
          },
          "metadata": {},
          "execution_count": 64
        }
      ]
    },
    {
      "cell_type": "code",
      "source": [
        "new_df = spark.createDataFrame(df)"
      ],
      "metadata": {
        "id": "b9eTqIGNuA_V"
      },
      "execution_count": null,
      "outputs": []
    },
    {
      "cell_type": "code",
      "source": [
        "new_df.printSchema()"
      ],
      "metadata": {
        "colab": {
          "base_uri": "https://localhost:8080/"
        },
        "id": "YEWcOuGTumoD",
        "outputId": "04258cd3-0a0b-4a6f-8350-a7bd50c74fcb"
      },
      "execution_count": null,
      "outputs": [
        {
          "output_type": "stream",
          "name": "stdout",
          "text": [
            "root\n",
            " |-- Age: double (nullable = true)\n",
            " |-- ALB: double (nullable = true)\n",
            " |-- ALP: double (nullable = true)\n",
            " |-- ALT: double (nullable = true)\n",
            " |-- AST: double (nullable = true)\n",
            " |-- BIL: double (nullable = true)\n",
            " |-- CHE: double (nullable = true)\n",
            " |-- CHOL: double (nullable = true)\n",
            " |-- CREA: double (nullable = true)\n",
            " |-- GGT: double (nullable = true)\n",
            " |-- PROT: double (nullable = true)\n",
            " |-- Gender: double (nullable = true)\n",
            " |-- Target: double (nullable = true)\n",
            "\n"
          ]
        }
      ]
    },
    {
      "source": [
        "new_df.show()"
      ],
      "cell_type": "code",
      "metadata": {
        "colab": {
          "base_uri": "https://localhost:8080/"
        },
        "id": "clNq6a1Qupn1",
        "outputId": "8479befc-f640-41d7-9dfb-c6a31edad1c5"
      },
      "execution_count": null,
      "outputs": [
        {
          "output_type": "stream",
          "name": "stdout",
          "text": [
            "+----+----+----+----+----+----+-----+----+-----+----+----+------+------+\n",
            "| Age| ALB| ALP| ALT| AST| BIL|  CHE|CHOL| CREA| GGT|PROT|Gender|Target|\n",
            "+----+----+----+----+----+----+-----+----+-----+----+----+------+------+\n",
            "|32.0|38.5|52.5| 7.7|22.1| 7.5| 6.93|3.23|106.0|12.1|69.0|   0.0|   0.0|\n",
            "|32.0|38.5|70.3|18.0|24.7| 3.9|11.17| 4.8| 74.0|15.6|76.5|   0.0|   0.0|\n",
            "|32.0|46.9|74.7|36.2|52.6| 6.1| 8.84| 5.2| 86.0|33.2|79.3|   0.0|   0.0|\n",
            "|32.0|43.2|52.0|30.6|22.6|18.9| 7.33|4.74| 80.0|33.8|75.7|   0.0|   0.0|\n",
            "|32.0|39.2|74.1|32.6|24.8| 9.6| 9.15|4.32| 76.0|29.9|68.7|   0.0|   0.0|\n",
            "|32.0|41.6|43.3|18.5|19.7|12.3| 9.92|6.05|111.0|91.0|74.0|   0.0|   0.0|\n",
            "|32.0|46.3|41.3|17.5|17.8| 8.5| 7.01|4.79| 70.0|16.9|74.5|   0.0|   0.0|\n",
            "|32.0|42.2|41.9|35.8|31.1|16.1| 5.82| 4.6|109.0|21.5|67.1|   0.0|   0.0|\n",
            "|32.0|50.9|65.5|23.2|21.2| 6.9| 8.69| 4.1| 83.0|13.7|71.3|   0.0|   0.0|\n",
            "|32.0|42.4|86.3|20.3|20.0|35.2| 5.46|4.45| 81.0|15.9|69.9|   0.0|   0.0|\n",
            "|32.0|44.3|52.3|21.7|22.4|17.2| 4.15|3.57| 78.0|24.1|75.4|   0.0|   0.0|\n",
            "|33.0|46.4|68.2|10.3|20.0| 5.7| 7.36| 4.3| 79.0|18.7|68.6|   0.0|   0.0|\n",
            "|33.0|36.3|78.6|23.6|22.0| 7.0| 8.56|5.38| 78.0|19.4|68.7|   0.0|   0.0|\n",
            "|33.0|39.0|51.7|15.9|24.0| 6.8| 6.46|3.38| 65.0| 7.0|70.4|   0.0|   0.0|\n",
            "|33.0|38.7|39.8|22.5|23.0| 4.1| 4.63|4.97| 63.0|15.2|71.9|   0.0|   0.0|\n",
            "|33.0|41.8|65.0|33.1|38.0| 6.6| 8.83|4.43| 71.0|24.0|72.7|   0.0|   0.0|\n",
            "|33.0|40.9|73.0|17.2|22.9|10.0| 6.98|5.22| 90.0|14.7|72.4|   0.0|   0.0|\n",
            "|33.0|45.2|88.3|32.4|31.2|10.1| 9.78|5.51|102.0|48.5|76.5|   0.0|   0.0|\n",
            "|33.0|36.6|57.1|38.9|40.3|24.9| 9.62| 5.5|112.0|27.6|69.3|   0.0|   0.0|\n",
            "|33.0|42.0|63.1|32.6|34.9|11.2| 7.01|4.05|105.0|19.1|68.1|   0.0|   0.0|\n",
            "+----+----+----+----+----+----+-----+----+-----+----+----+------+------+\n",
            "only showing top 20 rows\n",
            "\n"
          ]
        }
      ]
    },
    {
      "cell_type": "code",
      "source": [
        "#VectorAssembler\n",
        "req_features = ['Age','ALB','ALP','ALT','AST','BIL','CHE','CHOL','CREA','GGT','PROT','Gender']\n",
        "vec_assemb = VectorAssembler(inputCols=req_features,outputCol =\"features\")\n"
      ],
      "metadata": {
        "id": "-y-RyffkxZPR"
      },
      "execution_count": null,
      "outputs": []
    },
    {
      "cell_type": "code",
      "source": [
        "vec_df = vec_assemb.transform(new_df)"
      ],
      "metadata": {
        "id": "D5QeIOuTzxXP"
      },
      "execution_count": null,
      "outputs": []
    },
    {
      "cell_type": "code",
      "source": [
        "vec_df.show(4)"
      ],
      "metadata": {
        "colab": {
          "base_uri": "https://localhost:8080/"
        },
        "id": "G7qEqY6R0C61",
        "outputId": "f862ad48-b4f8-4ffa-9ed3-60735dc79a95"
      },
      "execution_count": null,
      "outputs": [
        {
          "output_type": "stream",
          "name": "stdout",
          "text": [
            "+----+----+----+----+----+----+-----+----+-----+----+----+------+------+--------------------+\n",
            "| Age| ALB| ALP| ALT| AST| BIL|  CHE|CHOL| CREA| GGT|PROT|Gender|Target|            features|\n",
            "+----+----+----+----+----+----+-----+----+-----+----+----+------+------+--------------------+\n",
            "|32.0|38.5|52.5| 7.7|22.1| 7.5| 6.93|3.23|106.0|12.1|69.0|   0.0|   0.0|[32.0,38.5,52.5,7...|\n",
            "|32.0|38.5|70.3|18.0|24.7| 3.9|11.17| 4.8| 74.0|15.6|76.5|   0.0|   0.0|[32.0,38.5,70.3,1...|\n",
            "|32.0|46.9|74.7|36.2|52.6| 6.1| 8.84| 5.2| 86.0|33.2|79.3|   0.0|   0.0|[32.0,46.9,74.7,3...|\n",
            "|32.0|43.2|52.0|30.6|22.6|18.9| 7.33|4.74| 80.0|33.8|75.7|   0.0|   0.0|[32.0,43.2,52.0,3...|\n",
            "+----+----+----+----+----+----+-----+----+-----+----+----+------+------+--------------------+\n",
            "only showing top 4 rows\n",
            "\n"
          ]
        }
      ]
    },
    {
      "cell_type": "markdown",
      "source": [
        "Train test split"
      ],
      "metadata": {
        "id": "YWI0Gs2y0OTN"
      }
    },
    {
      "cell_type": "code",
      "source": [
        "train_df,test_df = vec_df.randomSplit([0.7,0.3])"
      ],
      "metadata": {
        "id": "fPHGlPzN0IQ_"
      },
      "execution_count": null,
      "outputs": []
    },
    {
      "cell_type": "code",
      "source": [
        "train_df.count()"
      ],
      "metadata": {
        "colab": {
          "base_uri": "https://localhost:8080/"
        },
        "id": "292cPya30tFW",
        "outputId": "7e5dd6d7-d164-4c17-b09e-32e47f464e52"
      },
      "execution_count": null,
      "outputs": [
        {
          "output_type": "execute_result",
          "data": {
            "text/plain": [
              "419"
            ]
          },
          "metadata": {},
          "execution_count": 81
        }
      ]
    },
    {
      "cell_type": "code",
      "source": [
        "# Model building\n",
        "from pyspark.ml.classification import LogisticRegression,DecisionTreeClassifier"
      ],
      "metadata": {
        "id": "C8vhuKs50x5M"
      },
      "execution_count": null,
      "outputs": []
    },
    {
      "cell_type": "code",
      "source": [
        "lr = LogisticRegression(featuresCol =\"features\",labelCol=\"Target\")"
      ],
      "metadata": {
        "id": "Qz5s0R29245p"
      },
      "execution_count": null,
      "outputs": []
    },
    {
      "cell_type": "code",
      "source": [
        "lr_model = lr.fit(train_df)"
      ],
      "metadata": {
        "id": "B7OG4HBn3H0T"
      },
      "execution_count": null,
      "outputs": []
    },
    {
      "cell_type": "code",
      "source": [
        "y_pred = lr_model.transform(test_df)\n"
      ],
      "metadata": {
        "id": "eUSlGOdd3mHG"
      },
      "execution_count": 97,
      "outputs": []
    },
    {
      "cell_type": "code",
      "source": [
        "y_pred.show()"
      ],
      "metadata": {
        "colab": {
          "base_uri": "https://localhost:8080/"
        },
        "id": "6v7FKxIx3z0Q",
        "outputId": "537e053c-0c5f-4720-d4ed-9b4cfc2f1cd6"
      },
      "execution_count": null,
      "outputs": [
        {
          "output_type": "stream",
          "name": "stdout",
          "text": [
            "+----+----+-----+-----+----+----+-----+----+-----+----+----+------+------+--------------------+--------------------+--------------------+----------+\n",
            "| Age| ALB|  ALP|  ALT| AST| BIL|  CHE|CHOL| CREA| GGT|PROT|Gender|Target|            features|       rawPrediction|         probability|prediction|\n",
            "+----+----+-----+-----+----+----+-----+----+-----+----+----+------+------+--------------------+--------------------+--------------------+----------+\n",
            "|32.0|42.2| 41.9| 35.8|31.1|16.1| 5.82| 4.6|109.0|21.5|67.1|   0.0|   0.0|[32.0,42.2,41.9,3...|[254.439254377550...|[1.0,2.0550534104...|       0.0|\n",
            "|32.0|46.3| 41.3| 17.5|17.8| 8.5| 7.01|4.79| 70.0|16.9|74.5|   0.0|   0.0|[32.0,46.3,41.3,1...|[252.602279747994...|[1.0,4.1245379117...|       0.0|\n",
            "|32.0|46.9| 74.7| 36.2|52.6| 6.1| 8.84| 5.2| 86.0|33.2|79.3|   0.0|   0.0|[32.0,46.9,74.7,3...|[243.818134937929...|[1.0,1.3289519517...|       0.0|\n",
            "|33.0|36.3| 78.6| 23.6|22.0| 7.0| 8.56|5.38| 78.0|19.4|68.7|   0.0|   0.0|[33.0,36.3,78.6,2...|[460.711025052271...|[1.0,3.7302369505...|       0.0|\n",
            "|33.0|38.7| 39.8| 22.5|23.0| 4.1| 4.63|4.97| 63.0|15.2|71.9|   0.0|   0.0|[33.0,38.7,39.8,2...|[241.631950491873...|[1.0,8.8667474143...|       0.0|\n",
            "|33.0|46.7| 88.3| 23.4|23.9| 7.8| 9.42|4.62| 78.0|29.5|74.3|   0.0|   0.0|[33.0,46.7,88.3,2...|[465.940304168253...|[1.0,1.0026957232...|       0.0|\n",
            "|34.0|43.4| 46.1| 97.8|46.2|11.3| 7.99|3.62| 71.0|35.3|69.6|   0.0|   0.0|[34.0,43.4,46.1,9...|[286.870845909243...|[1.0,5.0443356538...|       0.0|\n",
            "|34.0|43.6| 58.9| 47.1|31.1|18.5| 9.14|4.99| 95.0|22.2|69.3|   0.0|   0.0|[34.0,43.6,58.9,4...|[344.751589316392...|[1.0,3.6725691488...|       0.0|\n",
            "|34.0|44.6| 84.1| 19.6|29.8| 5.8|  7.6|5.07| 95.0| 9.9|71.9|   0.0|   0.0|[34.0,44.6,84.1,1...|[469.140852972760...|[1.0,1.5846757037...|       0.0|\n",
            "|36.0|41.7| 77.2|103.6|46.9|10.4|12.21|5.63| 88.0|20.9|69.3|   0.0|   0.0|[36.0,41.7,77.2,1...|[506.493971305243...|[1.0,0.0,3.087720...|       0.0|\n",
            "|36.0|45.5| 57.6| 22.5|19.5| 7.5| 5.28|4.06| 88.0|62.5|71.6|   0.0|   0.0|[36.0,45.5,57.6,2...|[282.529214254763...|[1.0,1.3586829318...|       0.0|\n",
            "|36.0|46.1| 58.5| 26.8|25.3| 6.0| 6.61|5.07| 71.0|10.5|79.6|   0.0|   0.0|[36.0,46.1,58.5,2...|[315.909197014438...|[1.0,1.7654862487...|       0.0|\n",
            "|36.0|48.7| 65.0| 11.5|18.0| 7.4| 8.02|7.35| 69.0|14.2|73.4|   0.0|   0.0|[36.0,48.7,65.0,1...|[400.471493383307...|[1.0,1.1496485541...|       0.0|\n",
            "|37.0|31.4|106.0| 16.6|17.0| 2.4| 5.95| 5.3| 68.0|22.9|72.3|   0.0|   0.0|[37.0,31.4,106.0,...|[587.693540036924...|[1.0,2.3632046692...|       0.0|\n",
            "|37.0|41.5| 64.6| 23.7|29.9| 9.3| 5.49|3.97|100.0|10.4|69.3|   0.0|   0.0|[37.0,41.5,64.6,2...|[370.038905993269...|[1.0,2.3868920603...|       0.0|\n",
            "|37.0|41.9| 77.5| 24.9|25.8| 4.1|  8.7|4.36| 84.0|16.0|71.5|   0.0|   0.0|[37.0,41.9,77.5,2...|[444.485351948600...|[1.0,4.0752668674...|       0.0|\n",
            "|37.0|42.9| 61.8| 96.1|44.1| 9.6| 7.82| 5.1| 82.0|32.3|69.3|   0.0|   0.0|[37.0,42.9,61.8,9...|[404.971795016731...|[1.0,5.7397076504...|       0.0|\n",
            "|37.0|43.6| 72.8| 51.4|43.7|13.8| 8.16|4.88| 70.0|94.5|75.2|   0.0|   0.0|[37.0,43.6,72.8,5...|[188.785675895202...|[1.0,1.1762094497...|       0.0|\n",
            "|37.0|46.1| 44.3| 42.7|26.5| 6.4|10.86|5.05| 74.0|22.2|73.1|   0.0|   0.0|[37.0,46.1,44.3,4...|[282.931432824049...|[1.0,1.5877027522...|       0.0|\n",
            "|37.0|50.4| 48.5| 19.4|27.5|11.6| 5.78|4.93| 90.0|27.8|75.0|   0.0|   0.0|[37.0,50.4,48.5,1...|[234.766907462952...|[1.0,1.0602202365...|       0.0|\n",
            "+----+----+-----+-----+----+----+-----+----+-----+----+----+------+------+--------------------+--------------------+--------------------+----------+\n",
            "only showing top 20 rows\n",
            "\n"
          ]
        }
      ]
    },
    {
      "cell_type": "code",
      "source": [
        "print(y_pred.columns)"
      ],
      "metadata": {
        "colab": {
          "base_uri": "https://localhost:8080/"
        },
        "id": "2UtO5rV835Um",
        "outputId": "9e7ed599-4515-46bf-e3b2-fed4af7935c2"
      },
      "execution_count": null,
      "outputs": [
        {
          "output_type": "stream",
          "name": "stdout",
          "text": [
            "['Age', 'ALB', 'ALP', 'ALT', 'AST', 'BIL', 'CHE', 'CHOL', 'CREA', 'GGT', 'PROT', 'Gender', 'Target', 'features', 'rawPrediction', 'probability', 'prediction']\n"
          ]
        }
      ]
    },
    {
      "cell_type": "code",
      "source": [
        "y_pred.select('Target','rawPrediction', 'probability', 'prediction').show()"
      ],
      "metadata": {
        "colab": {
          "base_uri": "https://localhost:8080/"
        },
        "id": "WTmvyQDm4IiC",
        "outputId": "8e76593f-257c-44f8-fe56-72810f22a151"
      },
      "execution_count": null,
      "outputs": [
        {
          "output_type": "stream",
          "name": "stdout",
          "text": [
            "+------+--------------------+--------------------+----------+\n",
            "|Target|       rawPrediction|         probability|prediction|\n",
            "+------+--------------------+--------------------+----------+\n",
            "|   0.0|[254.439254377550...|[1.0,2.0550534104...|       0.0|\n",
            "|   0.0|[252.602279747994...|[1.0,4.1245379117...|       0.0|\n",
            "|   0.0|[243.818134937929...|[1.0,1.3289519517...|       0.0|\n",
            "|   0.0|[460.711025052271...|[1.0,3.7302369505...|       0.0|\n",
            "|   0.0|[241.631950491873...|[1.0,8.8667474143...|       0.0|\n",
            "|   0.0|[465.940304168253...|[1.0,1.0026957232...|       0.0|\n",
            "|   0.0|[286.870845909243...|[1.0,5.0443356538...|       0.0|\n",
            "|   0.0|[344.751589316392...|[1.0,3.6725691488...|       0.0|\n",
            "|   0.0|[469.140852972760...|[1.0,1.5846757037...|       0.0|\n",
            "|   0.0|[506.493971305243...|[1.0,0.0,3.087720...|       0.0|\n",
            "|   0.0|[282.529214254763...|[1.0,1.3586829318...|       0.0|\n",
            "|   0.0|[315.909197014438...|[1.0,1.7654862487...|       0.0|\n",
            "|   0.0|[400.471493383307...|[1.0,1.1496485541...|       0.0|\n",
            "|   0.0|[587.693540036924...|[1.0,2.3632046692...|       0.0|\n",
            "|   0.0|[370.038905993269...|[1.0,2.3868920603...|       0.0|\n",
            "|   0.0|[444.485351948600...|[1.0,4.0752668674...|       0.0|\n",
            "|   0.0|[404.971795016731...|[1.0,5.7397076504...|       0.0|\n",
            "|   0.0|[188.785675895202...|[1.0,1.1762094497...|       0.0|\n",
            "|   0.0|[282.931432824049...|[1.0,1.5877027522...|       0.0|\n",
            "|   0.0|[234.766907462952...|[1.0,1.0602202365...|       0.0|\n",
            "+------+--------------------+--------------------+----------+\n",
            "only showing top 20 rows\n",
            "\n"
          ]
        }
      ]
    },
    {
      "cell_type": "code",
      "source": [
        "from pyspark.ml.evaluation import MulticlassClassificationEvaluator\n",
        "mult_eval =MulticlassClassificationEvaluator(labelCol=\"Target\",metricName=\"accuracy\")"
      ],
      "metadata": {
        "id": "633xhSak4Xui"
      },
      "execution_count": null,
      "outputs": []
    },
    {
      "cell_type": "code",
      "source": [
        "mult_eval.evaluate(y_pred)"
      ],
      "metadata": {
        "colab": {
          "base_uri": "https://localhost:8080/"
        },
        "id": "WHmvkBws5QBp",
        "outputId": "4b7d9292-a4a9-4cd0-d79d-d555662f20fb"
      },
      "execution_count": null,
      "outputs": [
        {
          "output_type": "execute_result",
          "data": {
            "text/plain": [
              "0.9030612244897959"
            ]
          },
          "metadata": {},
          "execution_count": 94
        }
      ]
    },
    {
      "cell_type": "code",
      "source": [
        "dc = DecisionTreeClassifier(featuresCol =\"features\",labelCol=\"Target\")"
      ],
      "metadata": {
        "id": "AgYafCmH5U9_"
      },
      "execution_count": 95,
      "outputs": []
    },
    {
      "cell_type": "code",
      "source": [
        "dc_model = dc.fit(train_df)\n",
        "y_pred = dc_model.transform(test_df)\n"
      ],
      "metadata": {
        "id": "78RODT4T60lr"
      },
      "execution_count": 102,
      "outputs": []
    },
    {
      "cell_type": "code",
      "source": [
        "y_pred.show()"
      ],
      "metadata": {
        "colab": {
          "base_uri": "https://localhost:8080/"
        },
        "id": "EFM8uLat7JZM",
        "outputId": "2792d8bc-9872-4515-fc66-39dfe1e41b9d"
      },
      "execution_count": 103,
      "outputs": [
        {
          "output_type": "stream",
          "name": "stdout",
          "text": [
            "+----+----+-----+-----+----+----+-----+----+-----+----+----+------+------+--------------------+--------------------+--------------------+----------+\n",
            "| Age| ALB|  ALP|  ALT| AST| BIL|  CHE|CHOL| CREA| GGT|PROT|Gender|Target|            features|       rawPrediction|         probability|prediction|\n",
            "+----+----+-----+-----+----+----+-----+----+-----+----+----+------+------+--------------------+--------------------+--------------------+----------+\n",
            "|32.0|42.2| 41.9| 35.8|31.1|16.1| 5.82| 4.6|109.0|21.5|67.1|   0.0|   0.0|[32.0,42.2,41.9,3...|[353.0,0.0,4.0,1....|[0.98328690807799...|       0.0|\n",
            "|32.0|46.3| 41.3| 17.5|17.8| 8.5| 7.01|4.79| 70.0|16.9|74.5|   0.0|   0.0|[32.0,46.3,41.3,1...|[353.0,0.0,4.0,1....|[0.98328690807799...|       0.0|\n",
            "|32.0|46.9| 74.7| 36.2|52.6| 6.1| 8.84| 5.2| 86.0|33.2|79.3|   0.0|   0.0|[32.0,46.9,74.7,3...|[8.0,0.0,0.0,0.0,...|[1.0,0.0,0.0,0.0,...|       0.0|\n",
            "|33.0|36.3| 78.6| 23.6|22.0| 7.0| 8.56|5.38| 78.0|19.4|68.7|   0.0|   0.0|[33.0,36.3,78.6,2...|[353.0,0.0,4.0,1....|[0.98328690807799...|       0.0|\n",
            "|33.0|38.7| 39.8| 22.5|23.0| 4.1| 4.63|4.97| 63.0|15.2|71.9|   0.0|   0.0|[33.0,38.7,39.8,2...|[353.0,0.0,4.0,1....|[0.98328690807799...|       0.0|\n",
            "|33.0|46.7| 88.3| 23.4|23.9| 7.8| 9.42|4.62| 78.0|29.5|74.3|   0.0|   0.0|[33.0,46.7,88.3,2...|[353.0,0.0,4.0,1....|[0.98328690807799...|       0.0|\n",
            "|34.0|43.4| 46.1| 97.8|46.2|11.3| 7.99|3.62| 71.0|35.3|69.6|   0.0|   0.0|[34.0,43.4,46.1,9...|[0.0,1.0,4.0,12.0...|[0.0,0.0588235294...|       3.0|\n",
            "|34.0|43.6| 58.9| 47.1|31.1|18.5| 9.14|4.99| 95.0|22.2|69.3|   0.0|   0.0|[34.0,43.6,58.9,4...|[353.0,0.0,4.0,1....|[0.98328690807799...|       0.0|\n",
            "|34.0|44.6| 84.1| 19.6|29.8| 5.8|  7.6|5.07| 95.0| 9.9|71.9|   0.0|   0.0|[34.0,44.6,84.1,1...|[353.0,0.0,4.0,1....|[0.98328690807799...|       0.0|\n",
            "|36.0|41.7| 77.2|103.6|46.9|10.4|12.21|5.63| 88.0|20.9|69.3|   0.0|   0.0|[36.0,41.7,77.2,1...|[8.0,0.0,0.0,0.0,...|[1.0,0.0,0.0,0.0,...|       0.0|\n",
            "|36.0|45.5| 57.6| 22.5|19.5| 7.5| 5.28|4.06| 88.0|62.5|71.6|   0.0|   0.0|[36.0,45.5,57.6,2...|[353.0,0.0,4.0,1....|[0.98328690807799...|       0.0|\n",
            "|36.0|46.1| 58.5| 26.8|25.3| 6.0| 6.61|5.07| 71.0|10.5|79.6|   0.0|   0.0|[36.0,46.1,58.5,2...|[353.0,0.0,4.0,1....|[0.98328690807799...|       0.0|\n",
            "|36.0|48.7| 65.0| 11.5|18.0| 7.4| 8.02|7.35| 69.0|14.2|73.4|   0.0|   0.0|[36.0,48.7,65.0,1...|[353.0,0.0,4.0,1....|[0.98328690807799...|       0.0|\n",
            "|37.0|31.4|106.0| 16.6|17.0| 2.4| 5.95| 5.3| 68.0|22.9|72.3|   0.0|   0.0|[37.0,31.4,106.0,...|[353.0,0.0,4.0,1....|[0.98328690807799...|       0.0|\n",
            "|37.0|41.5| 64.6| 23.7|29.9| 9.3| 5.49|3.97|100.0|10.4|69.3|   0.0|   0.0|[37.0,41.5,64.6,2...|[353.0,0.0,4.0,1....|[0.98328690807799...|       0.0|\n",
            "|37.0|41.9| 77.5| 24.9|25.8| 4.1|  8.7|4.36| 84.0|16.0|71.5|   0.0|   0.0|[37.0,41.9,77.5,2...|[353.0,0.0,4.0,1....|[0.98328690807799...|       0.0|\n",
            "|37.0|42.9| 61.8| 96.1|44.1| 9.6| 7.82| 5.1| 82.0|32.3|69.3|   0.0|   0.0|[37.0,42.9,61.8,9...|[353.0,0.0,4.0,1....|[0.98328690807799...|       0.0|\n",
            "|37.0|43.6| 72.8| 51.4|43.7|13.8| 8.16|4.88| 70.0|94.5|75.2|   0.0|   0.0|[37.0,43.6,72.8,5...|[353.0,0.0,4.0,1....|[0.98328690807799...|       0.0|\n",
            "|37.0|46.1| 44.3| 42.7|26.5| 6.4|10.86|5.05| 74.0|22.2|73.1|   0.0|   0.0|[37.0,46.1,44.3,4...|[353.0,0.0,4.0,1....|[0.98328690807799...|       0.0|\n",
            "|37.0|50.4| 48.5| 19.4|27.5|11.6| 5.78|4.93| 90.0|27.8|75.0|   0.0|   0.0|[37.0,50.4,48.5,1...|[353.0,0.0,4.0,1....|[0.98328690807799...|       0.0|\n",
            "+----+----+-----+-----+----+----+-----+----+-----+----+----+------+------+--------------------+--------------------+--------------------+----------+\n",
            "only showing top 20 rows\n",
            "\n"
          ]
        }
      ]
    },
    {
      "cell_type": "code",
      "source": [
        "y_pred.select('Target','rawPrediction', 'probability', 'prediction').show()"
      ],
      "metadata": {
        "colab": {
          "base_uri": "https://localhost:8080/"
        },
        "id": "km1tjWsI7UBO",
        "outputId": "37f3e4d0-97aa-4142-a8f2-e559f293fe70"
      },
      "execution_count": 99,
      "outputs": [
        {
          "output_type": "stream",
          "name": "stdout",
          "text": [
            "+------+--------------------+--------------------+----------+\n",
            "|Target|       rawPrediction|         probability|prediction|\n",
            "+------+--------------------+--------------------+----------+\n",
            "|   0.0|[254.439254377550...|[1.0,2.0550534104...|       0.0|\n",
            "|   0.0|[252.602279747994...|[1.0,4.1245379117...|       0.0|\n",
            "|   0.0|[243.818134937929...|[1.0,1.3289519517...|       0.0|\n",
            "|   0.0|[460.711025052271...|[1.0,3.7302369505...|       0.0|\n",
            "|   0.0|[241.631950491873...|[1.0,8.8667474143...|       0.0|\n",
            "|   0.0|[465.940304168253...|[1.0,1.0026957232...|       0.0|\n",
            "|   0.0|[286.870845909243...|[1.0,5.0443356538...|       0.0|\n",
            "|   0.0|[344.751589316392...|[1.0,3.6725691488...|       0.0|\n",
            "|   0.0|[469.140852972760...|[1.0,1.5846757037...|       0.0|\n",
            "|   0.0|[506.493971305243...|[1.0,0.0,3.087720...|       0.0|\n",
            "|   0.0|[282.529214254763...|[1.0,1.3586829318...|       0.0|\n",
            "|   0.0|[315.909197014438...|[1.0,1.7654862487...|       0.0|\n",
            "|   0.0|[400.471493383307...|[1.0,1.1496485541...|       0.0|\n",
            "|   0.0|[587.693540036924...|[1.0,2.3632046692...|       0.0|\n",
            "|   0.0|[370.038905993269...|[1.0,2.3868920603...|       0.0|\n",
            "|   0.0|[444.485351948600...|[1.0,4.0752668674...|       0.0|\n",
            "|   0.0|[404.971795016731...|[1.0,5.7397076504...|       0.0|\n",
            "|   0.0|[188.785675895202...|[1.0,1.1762094497...|       0.0|\n",
            "|   0.0|[282.931432824049...|[1.0,1.5877027522...|       0.0|\n",
            "|   0.0|[234.766907462952...|[1.0,1.0602202365...|       0.0|\n",
            "+------+--------------------+--------------------+----------+\n",
            "only showing top 20 rows\n",
            "\n"
          ]
        }
      ]
    },
    {
      "cell_type": "code",
      "source": [
        "from pyspark.ml.evaluation import MulticlassClassificationEvaluator\n",
        "mult_eval =MulticlassClassificationEvaluator(labelCol=\"Target\",metricName=\"accuracy\")"
      ],
      "metadata": {
        "id": "EUU9z-0r7ZqF"
      },
      "execution_count": 104,
      "outputs": []
    },
    {
      "cell_type": "code",
      "source": [
        "mult_eval.evaluate(y_pred)"
      ],
      "metadata": {
        "colab": {
          "base_uri": "https://localhost:8080/"
        },
        "id": "7UR8QqCr7evo",
        "outputId": "41820a2c-abbe-45a5-9288-154617839d60"
      },
      "execution_count": 105,
      "outputs": [
        {
          "output_type": "execute_result",
          "data": {
            "text/plain": [
              "0.9132653061224489"
            ]
          },
          "metadata": {},
          "execution_count": 105
        }
      ]
    },
    {
      "cell_type": "code",
      "source": [],
      "metadata": {
        "id": "Z_HGRbSF7i1_"
      },
      "execution_count": null,
      "outputs": []
    }
  ]
}